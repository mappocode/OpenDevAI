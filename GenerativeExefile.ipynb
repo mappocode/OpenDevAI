{
  "nbformat": 4,
  "nbformat_minor": 0,
  "metadata": {
    "colab": {
      "provenance": []
    },
    "kernelspec": {
      "name": "python3",
      "display_name": "Python 3"
    },
    "language_info": {
      "name": "python"
    }
  },
  "cells": [
    {
      "cell_type": "markdown",
      "source": [
        "ランタイム　＞　全てのセルを実行をクリック"
      ],
      "metadata": {
        "id": "zOC4pM434Ihl"
      }
    },
    {
      "cell_type": "code",
      "source": [
        "# exe化\n",
        "!pyinstaller mypyfile.py --onefile"
      ],
      "metadata": {
        "id": "ungMqE4Wq19K"
      },
      "execution_count": null,
      "outputs": []
    }
  ]
}