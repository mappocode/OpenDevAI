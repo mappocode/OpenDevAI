{
  "nbformat": 4,
  "nbformat_minor": 0,
  "metadata": {
    "colab": {
      "provenance": [],
      "mount_file_id": "1WITcpCAGz5-fDlb-XONB5StYoW5Owl6V",
      "authorship_tag": "ABX9TyMVfbisfIKfta01/mTyBpV1"
    },
    "kernelspec": {
      "name": "python3",
      "display_name": "Python 3"
    },
    "language_info": {
      "name": "python"
    }
  },
  "cells": [
    {
      "cell_type": "code",
      "execution_count": null,
      "metadata": {
        "id": "EjHgfbEWsUAI"
      },
      "outputs": [],
      "source": [
        "pip install beautifulsoup4\n"
      ]
    },
    {
      "cell_type": "code",
      "source": [
        "pip install --upgrade certifi"
      ],
      "metadata": {
        "colab": {
          "base_uri": "https://localhost:8080/"
        },
        "id": "OnCSCdKW3Woa",
        "outputId": "e94ede02-684d-4997-9948-ee36cd2b8169"
      },
      "execution_count": null,
      "outputs": [
        {
          "output_type": "stream",
          "name": "stdout",
          "text": [
            "Requirement already satisfied: certifi in /usr/local/lib/python3.10/dist-packages (2023.5.7)\n"
          ]
        }
      ]
    },
    {
      "cell_type": "code",
      "source": [
        "import os\n",
        "import urllib.request\n",
        "import ssl\n",
        "from urllib.request import *\n",
        "\n",
        "print(\"ダウンロード開始\")\n",
        "\n",
        "# HTMLファイル 保存先のディレクトリ\n",
        "save_dir = \"/content/html/\"\n",
        "\n",
        "# 存在しなければディレクトリ作成\n",
        "if not os.path.exists(save_dir):\n",
        "    os.mkdir(save_dir)\n",
        "\n",
        "# htmlをダウンロードするURL\n",
        "\n",
        "download_url = \"https://www.city.fukushima.fukushima.jp/shigoto/nyusatsu/nyusatsukokoku/sonota/index.html\"\n",
        "\n",
        "\n",
        "# 保存先\n",
        "save_file = save_dir + \"fukushima.html\"\n",
        "\n",
        "# ダウンロード\n",
        "urlretrieve(download_url, save_file)\n",
        "\n",
        "print(\"ダウンロード完了\")"
      ],
      "metadata": {
        "id": "awzrVB2yutrG"
      },
      "execution_count": null,
      "outputs": []
    },
    {
      "cell_type": "code",
      "source": [
        "from google.colab import drive\n",
        "drive.mount('/content/drive')"
      ],
      "metadata": {
        "id": "r_xuyXKMuxZ1"
      },
      "execution_count": null,
      "outputs": []
    },
    {
      "cell_type": "code",
      "source": [
        "import os\n",
        "from bs4 import BeautifulSoup\n",
        "\n",
        "print(\"HTML解析開始\")\n",
        "\n",
        "# HTMLファイル 保存先のディレクトリ\n",
        "save_dir =\"/content/html/\"\n",
        "# HTMLファイルパス\n",
        "html_file = save_dir + \"fukushima.html\"\n",
        "\n",
        "# ファイルの読み込み\n",
        "with open(html_file, encoding='utf-8') as f:\n",
        "\n",
        "    bsoup = BeautifulSoup(f, \"html5lib\")\n",
        "\n",
        "    # HTMLから該当の文字を取得(CSSセレクターを指定)\n",
        "    ele = bsoup.select_one(\"#tmp_contents > ul\")\n",
        "\n",
        "    if ele is None:\n",
        "        print(\"見つかりませんでした\")\n",
        "    else:\n",
        "        print(\"見つかりました：\")\n",
        "\n",
        "print(\"HTML解析終了\")"
      ],
      "metadata": {
        "id": "nNQqiLGS7L1p"
      },
      "execution_count": null,
      "outputs": []
    },
    {
      "cell_type": "code",
      "source": [
        "import os\n",
        "from bs4 import BeautifulSoup\n",
        "import openpyxl as op\n",
        "#Google colab上のGoogle Driveの作業フォルダ\n",
        "folder = r\"drive\"\n",
        "# 新規ワークブックの作成\n",
        "wb = op.Workbook()\n",
        "# 保存する\n",
        "wb.save('/content/html/data.xlsx')\n",
        "# シートのアクティブ化（一番最初のシート）\n",
        "ws = wb.active\n",
        "# セルに書き込み\n",
        "#ws[\"A1\"] = \"This value is written in python by openpyxl!!!\"\n",
        "\n",
        "\n",
        "print(\"HTML解析開始\")\n",
        "# HTMLファイル 保存先のディレクトリ\n",
        "save_dir =\"/content/html/\"\n",
        "# HTMLファイルパス\n",
        "html_file = save_dir + \"/fukushima.html\"\n",
        "\n",
        "textAll=\"\"\n",
        "\n",
        "# ファイル読み込み\n",
        "with open(html_file, encoding='utf-8') as f:\n",
        "\n",
        "    bsoup = BeautifulSoup(f, \"html5lib\")\n",
        "\n",
        "    # HTMLから該当の範囲を取得\n",
        "    ele = bsoup.select_one(\"#tmp_contents > ul\")\n",
        "    ele2 =bsoup.select_one(\"#tmp_contents > ul\")\n",
        "    #ele3 =bsoup.select_one(\"#main_body > div > div > ul\")\n",
        "\n",
        "    if ele is None:\n",
        "        print(\"見つかりませんでした\")\n",
        "    else:\n",
        "        # h1タグのリストを取得\n",
        "        allTitles = ele2.find(\"a\")\n",
        "        allTitles2 = ele2.find_all(\"li\")\n",
        "        links = allTitles.get(\"href\")\n",
        "        print(links)\n",
        "        for i, li2 in enumerate(allTitles2):\n",
        "        #for i, t in enumerate(zip(allTitles2,allTitles3)):\n",
        "        #for i, t in enumerate(zip(names, ages)):\n",
        "            #print(i,t[0].select_one(\"span\").string,t[1])\n",
        "            #print(ele2.get('href'))\n",
        "            # h1の中のspanタグの表示文字列を取得\n",
        "\n",
        "\n",
        "\n",
        "            links = li2.select_one(\"a\").get(\"href\")\n",
        "           # ws.cell(row=i+1,column=2,value=li2.select_one(\"span\").string)\n",
        "            ws.cell(row=i+1,column=3,value=li2.select_one(\"a\").string)\n",
        "            ws.cell(row=i+1,column=4,value=str(links))\n",
        "            #textAll +=  (li2.select_one(\"span\").string+\" \"+ (li2.select_one(\"a\").string) +\"\\r\\n\")\n",
        "\n",
        "    #print(textAll)\n",
        "# Excelファイルの保存\n",
        "# 同名のファイルが存在する場合 上書きします。\n",
        "wb.save(folder + \"newExcel1.xlsx\")\n",
        "# Excelファイルを閉じる\n",
        "wb.close()\n",
        "print(\"HTML解析終了\")"
      ],
      "metadata": {
        "id": "QifNpig78FGO"
      },
      "execution_count": null,
      "outputs": []
    },
    {
      "cell_type": "code",
      "source": [],
      "metadata": {
        "id": "Zfcn34KPID2a"
      },
      "execution_count": null,
      "outputs": []
    }
  ]
}